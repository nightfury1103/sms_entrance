{
 "cells": [
  {
   "cell_type": "markdown",
   "metadata": {},
   "source": [
    "# Import <br>\n",
    "\n",
    "Các thư viện cần thiết cho bài làm này"
   ]
  },
  {
   "cell_type": "code",
   "execution_count": 1,
   "metadata": {},
   "outputs": [],
   "source": [
    "import pandas as pd\n",
    "import numpy as np\n",
    "import matplotlib.pyplot as plt\n",
    "import seaborn as sns; sns.set()\n",
    "pd.set_option('display.max_columns', None)  "
   ]
  },
  {
   "cell_type": "markdown",
   "metadata": {},
   "source": [
    "Điều chỉnh kích thước và độ phóng chung cho các biểu đồ: figsize = (10,5) ; dpi = 80"
   ]
  },
  {
   "cell_type": "code",
   "execution_count": null,
   "metadata": {},
   "outputs": [],
   "source": [
    "plt.rcParams['figure.figsize'] = [10, 5]\n",
    "plt.rcParams['figure.dpi'] = 80"
   ]
  },
  {
   "cell_type": "markdown",
   "metadata": {},
   "source": [
    "# Khám phá dữ liệu"
   ]
  },
  {
   "cell_type": "markdown",
   "metadata": {},
   "source": [
    "### Đọc dữ liệu"
   ]
  },
  {
   "cell_type": "code",
   "execution_count": 10,
   "metadata": {},
   "outputs": [
    {
     "data": {
      "text/html": [
       "<div>\n",
       "<style scoped>\n",
       "    .dataframe tbody tr th:only-of-type {\n",
       "        vertical-align: middle;\n",
       "    }\n",
       "\n",
       "    .dataframe tbody tr th {\n",
       "        vertical-align: top;\n",
       "    }\n",
       "\n",
       "    .dataframe thead th {\n",
       "        text-align: right;\n",
       "    }\n",
       "</style>\n",
       "<table border=\"1\" class=\"dataframe\">\n",
       "  <thead>\n",
       "    <tr style=\"text-align: right;\">\n",
       "      <th></th>\n",
       "      <th>Matchweek</th>\n",
       "      <th>Day</th>\n",
       "      <th>Date</th>\n",
       "      <th>Season</th>\n",
       "      <th>Time</th>\n",
       "      <th>home_team</th>\n",
       "      <th>home_score</th>\n",
       "      <th>away_team</th>\n",
       "      <th>away_score</th>\n",
       "      <th>Venue</th>\n",
       "      <th>Referee</th>\n",
       "      <th>diff_score</th>\n",
       "    </tr>\n",
       "  </thead>\n",
       "  <tbody>\n",
       "    <tr>\n",
       "      <th>0</th>\n",
       "      <td>1</td>\n",
       "      <td>Fri</td>\n",
       "      <td>2022-08-05</td>\n",
       "      <td>2022-2023</td>\n",
       "      <td>20:00</td>\n",
       "      <td>Crystal Palace</td>\n",
       "      <td>0</td>\n",
       "      <td>Arsenal</td>\n",
       "      <td>2</td>\n",
       "      <td>Selhurst Park</td>\n",
       "      <td>Anthony Taylor</td>\n",
       "      <td>-2</td>\n",
       "    </tr>\n",
       "    <tr>\n",
       "      <th>1</th>\n",
       "      <td>1</td>\n",
       "      <td>Sat</td>\n",
       "      <td>2022-08-06</td>\n",
       "      <td>2022-2023</td>\n",
       "      <td>12:30</td>\n",
       "      <td>Fulham</td>\n",
       "      <td>2</td>\n",
       "      <td>Liverpool</td>\n",
       "      <td>2</td>\n",
       "      <td>Craven Cottage</td>\n",
       "      <td>Andy Madley</td>\n",
       "      <td>0</td>\n",
       "    </tr>\n",
       "    <tr>\n",
       "      <th>2</th>\n",
       "      <td>1</td>\n",
       "      <td>Sat</td>\n",
       "      <td>2022-08-06</td>\n",
       "      <td>2022-2023</td>\n",
       "      <td>15:00</td>\n",
       "      <td>Tottenham</td>\n",
       "      <td>4</td>\n",
       "      <td>Southampton</td>\n",
       "      <td>1</td>\n",
       "      <td>Tottenham Hotspur Stadium</td>\n",
       "      <td>Andre Marriner</td>\n",
       "      <td>3</td>\n",
       "    </tr>\n",
       "    <tr>\n",
       "      <th>3</th>\n",
       "      <td>1</td>\n",
       "      <td>Sat</td>\n",
       "      <td>2022-08-06</td>\n",
       "      <td>2022-2023</td>\n",
       "      <td>15:00</td>\n",
       "      <td>Newcastle United</td>\n",
       "      <td>2</td>\n",
       "      <td>Nottingham Forest</td>\n",
       "      <td>0</td>\n",
       "      <td>St James' Park</td>\n",
       "      <td>Simon Hooper</td>\n",
       "      <td>2</td>\n",
       "    </tr>\n",
       "    <tr>\n",
       "      <th>4</th>\n",
       "      <td>1</td>\n",
       "      <td>Sat</td>\n",
       "      <td>2022-08-06</td>\n",
       "      <td>2022-2023</td>\n",
       "      <td>15:00</td>\n",
       "      <td>Leeds United</td>\n",
       "      <td>2</td>\n",
       "      <td>Wolves</td>\n",
       "      <td>1</td>\n",
       "      <td>Elland Road</td>\n",
       "      <td>Robert Jones</td>\n",
       "      <td>1</td>\n",
       "    </tr>\n",
       "  </tbody>\n",
       "</table>\n",
       "</div>"
      ],
      "text/plain": [
       "   Matchweek  Day       Date     Season   Time         home_team  home_score  \\\n",
       "0          1  Fri 2022-08-05  2022-2023  20:00    Crystal Palace           0   \n",
       "1          1  Sat 2022-08-06  2022-2023  12:30            Fulham           2   \n",
       "2          1  Sat 2022-08-06  2022-2023  15:00         Tottenham           4   \n",
       "3          1  Sat 2022-08-06  2022-2023  15:00  Newcastle United           2   \n",
       "4          1  Sat 2022-08-06  2022-2023  15:00      Leeds United           2   \n",
       "\n",
       "           away_team  away_score                      Venue         Referee  \\\n",
       "0            Arsenal           2              Selhurst Park  Anthony Taylor   \n",
       "1          Liverpool           2             Craven Cottage     Andy Madley   \n",
       "2        Southampton           1  Tottenham Hotspur Stadium  Andre Marriner   \n",
       "3  Nottingham Forest           0             St James' Park    Simon Hooper   \n",
       "4             Wolves           1                Elland Road    Robert Jones   \n",
       "\n",
       "   diff_score  \n",
       "0          -2  \n",
       "1           0  \n",
       "2           3  \n",
       "3           2  \n",
       "4           1  "
      ]
     },
     "execution_count": 10,
     "metadata": {},
     "output_type": "execute_result"
    }
   ],
   "source": [
    "EPL = pd.read_excel('Candidate Data/EPL.xlsx')\n",
    "EPL.head()"
   ]
  },
  {
   "cell_type": "code",
   "execution_count": 11,
   "metadata": {},
   "outputs": [
    {
     "data": {
      "text/html": [
       "<div>\n",
       "<style scoped>\n",
       "    .dataframe tbody tr th:only-of-type {\n",
       "        vertical-align: middle;\n",
       "    }\n",
       "\n",
       "    .dataframe tbody tr th {\n",
       "        vertical-align: top;\n",
       "    }\n",
       "\n",
       "    .dataframe thead th {\n",
       "        text-align: right;\n",
       "    }\n",
       "</style>\n",
       "<table border=\"1\" class=\"dataframe\">\n",
       "  <thead>\n",
       "    <tr style=\"text-align: right;\">\n",
       "      <th></th>\n",
       "      <th>Matchweek</th>\n",
       "      <th>Day</th>\n",
       "      <th>Date</th>\n",
       "      <th>Season</th>\n",
       "      <th>Time</th>\n",
       "      <th>home_team</th>\n",
       "      <th>home_score</th>\n",
       "      <th>away_team</th>\n",
       "      <th>away_score</th>\n",
       "      <th>Venue</th>\n",
       "      <th>Referee</th>\n",
       "      <th>diff_score</th>\n",
       "    </tr>\n",
       "  </thead>\n",
       "  <tbody>\n",
       "    <tr>\n",
       "      <th>0</th>\n",
       "      <td>1.0</td>\n",
       "      <td>Sat</td>\n",
       "      <td>2022-08-13</td>\n",
       "      <td>2022-2023</td>\n",
       "      <td>18:30</td>\n",
       "      <td>Sampdoria</td>\n",
       "      <td>0</td>\n",
       "      <td>Atalanta</td>\n",
       "      <td>2</td>\n",
       "      <td>Stadio Comunale Luigi Ferraris</td>\n",
       "      <td>Federico Dionisi</td>\n",
       "      <td>-2</td>\n",
       "    </tr>\n",
       "    <tr>\n",
       "      <th>1</th>\n",
       "      <td>1.0</td>\n",
       "      <td>Sat</td>\n",
       "      <td>2022-08-13</td>\n",
       "      <td>2022-2023</td>\n",
       "      <td>18:30</td>\n",
       "      <td>Milan</td>\n",
       "      <td>4</td>\n",
       "      <td>Udinese</td>\n",
       "      <td>2</td>\n",
       "      <td>Stadio Giuseppe Meazza</td>\n",
       "      <td>Livio Marinelli</td>\n",
       "      <td>2</td>\n",
       "    </tr>\n",
       "    <tr>\n",
       "      <th>2</th>\n",
       "      <td>1.0</td>\n",
       "      <td>Sat</td>\n",
       "      <td>2022-08-13</td>\n",
       "      <td>2022-2023</td>\n",
       "      <td>20:45</td>\n",
       "      <td>Monza</td>\n",
       "      <td>1</td>\n",
       "      <td>Torino</td>\n",
       "      <td>2</td>\n",
       "      <td>U-Power Stadium</td>\n",
       "      <td>Maurizio Mariani</td>\n",
       "      <td>-1</td>\n",
       "    </tr>\n",
       "    <tr>\n",
       "      <th>3</th>\n",
       "      <td>1.0</td>\n",
       "      <td>Sat</td>\n",
       "      <td>2022-08-13</td>\n",
       "      <td>2022-2023</td>\n",
       "      <td>20:45</td>\n",
       "      <td>Lecce</td>\n",
       "      <td>1</td>\n",
       "      <td>Inter</td>\n",
       "      <td>2</td>\n",
       "      <td>Stadio Comunale Via Del Mare</td>\n",
       "      <td>Alessandro Prontera</td>\n",
       "      <td>-1</td>\n",
       "    </tr>\n",
       "    <tr>\n",
       "      <th>4</th>\n",
       "      <td>1.0</td>\n",
       "      <td>Sun</td>\n",
       "      <td>2022-08-14</td>\n",
       "      <td>2022-2023</td>\n",
       "      <td>18:30</td>\n",
       "      <td>Fiorentina</td>\n",
       "      <td>3</td>\n",
       "      <td>Cremonese</td>\n",
       "      <td>2</td>\n",
       "      <td>Stadio Artemio Franchi</td>\n",
       "      <td>Juan Sacchi</td>\n",
       "      <td>1</td>\n",
       "    </tr>\n",
       "  </tbody>\n",
       "</table>\n",
       "</div>"
      ],
      "text/plain": [
       "   Matchweek  Day       Date     Season   Time   home_team  home_score  \\\n",
       "0        1.0  Sat 2022-08-13  2022-2023  18:30   Sampdoria           0   \n",
       "1        1.0  Sat 2022-08-13  2022-2023  18:30       Milan           4   \n",
       "2        1.0  Sat 2022-08-13  2022-2023  20:45       Monza           1   \n",
       "3        1.0  Sat 2022-08-13  2022-2023  20:45       Lecce           1   \n",
       "4        1.0  Sun 2022-08-14  2022-2023  18:30  Fiorentina           3   \n",
       "\n",
       "   away_team  away_score                           Venue              Referee  \\\n",
       "0   Atalanta           2  Stadio Comunale Luigi Ferraris     Federico Dionisi   \n",
       "1    Udinese           2          Stadio Giuseppe Meazza      Livio Marinelli   \n",
       "2     Torino           2                 U-Power Stadium     Maurizio Mariani   \n",
       "3      Inter           2    Stadio Comunale Via Del Mare  Alessandro Prontera   \n",
       "4  Cremonese           2          Stadio Artemio Franchi          Juan Sacchi   \n",
       "\n",
       "   diff_score  \n",
       "0          -2  \n",
       "1           2  \n",
       "2          -1  \n",
       "3          -1  \n",
       "4           1  "
      ]
     },
     "execution_count": 11,
     "metadata": {},
     "output_type": "execute_result"
    }
   ],
   "source": [
    "ITA = pd.read_excel('Candidate Data/ITA.xlsx')\n",
    "ITA.head()"
   ]
  },
  {
   "cell_type": "markdown",
   "metadata": {},
   "source": [
    "### Dữ liệu có bao nhiêu dòng và cột ?"
   ]
  },
  {
   "cell_type": "code",
   "execution_count": 12,
   "metadata": {},
   "outputs": [
    {
     "data": {
      "text/plain": [
       "(663, 12)"
      ]
     },
     "execution_count": 12,
     "metadata": {},
     "output_type": "execute_result"
    }
   ],
   "source": [
    "n_rows, n_col = EPL.shape\n",
    "n_rows, n_col"
   ]
  },
  {
   "cell_type": "code",
   "execution_count": 13,
   "metadata": {},
   "outputs": [
    {
     "data": {
      "text/plain": [
       "(670, 12)"
      ]
     },
     "execution_count": 13,
     "metadata": {},
     "output_type": "execute_result"
    }
   ],
   "source": [
    "n_rows, n_col = ITA.shape\n",
    "n_rows, n_col"
   ]
  },
  {
   "cell_type": "markdown",
   "metadata": {},
   "source": [
    "Như vậy ta có được dữ liệu EPL hiện tại đưa vào là 663 dòng và 12 cột.\n",
    "Như vậy ta có được dữ liệu EPL hiện tại đưa vào là 670 dòng và 12 cột."
   ]
  },
  {
   "cell_type": "markdown",
   "metadata": {},
   "source": [
    "### Các dòng dữ liệu"
   ]
  },
  {
   "cell_type": "markdown",
   "metadata": {},
   "source": [
    "#### Mỗi dòng có ý nghĩa gì? Có vấn đề các dòng có ý nghĩa khác nhau không?"
   ]
  },
  {
   "cell_type": "code",
   "execution_count": 14,
   "metadata": {},
   "outputs": [
    {
     "data": {
      "text/html": [
       "<div>\n",
       "<style scoped>\n",
       "    .dataframe tbody tr th:only-of-type {\n",
       "        vertical-align: middle;\n",
       "    }\n",
       "\n",
       "    .dataframe tbody tr th {\n",
       "        vertical-align: top;\n",
       "    }\n",
       "\n",
       "    .dataframe thead th {\n",
       "        text-align: right;\n",
       "    }\n",
       "</style>\n",
       "<table border=\"1\" class=\"dataframe\">\n",
       "  <thead>\n",
       "    <tr style=\"text-align: right;\">\n",
       "      <th></th>\n",
       "      <th>Matchweek</th>\n",
       "      <th>Day</th>\n",
       "      <th>Date</th>\n",
       "      <th>Season</th>\n",
       "      <th>Time</th>\n",
       "      <th>home_team</th>\n",
       "      <th>home_score</th>\n",
       "      <th>away_team</th>\n",
       "      <th>away_score</th>\n",
       "      <th>Venue</th>\n",
       "      <th>Referee</th>\n",
       "      <th>diff_score</th>\n",
       "    </tr>\n",
       "  </thead>\n",
       "  <tbody>\n",
       "    <tr>\n",
       "      <th>432</th>\n",
       "      <td>6</td>\n",
       "      <td>Sat</td>\n",
       "      <td>2023-09-23</td>\n",
       "      <td>2023-2024</td>\n",
       "      <td>17:30</td>\n",
       "      <td>Brentford</td>\n",
       "      <td>1</td>\n",
       "      <td>Everton</td>\n",
       "      <td>3</td>\n",
       "      <td>Gtech Community Stadium</td>\n",
       "      <td>Michael Oliver</td>\n",
       "      <td>-2</td>\n",
       "    </tr>\n",
       "    <tr>\n",
       "      <th>242</th>\n",
       "      <td>26</td>\n",
       "      <td>Sat</td>\n",
       "      <td>2023-03-04</td>\n",
       "      <td>2022-2023</td>\n",
       "      <td>15:00</td>\n",
       "      <td>Arsenal</td>\n",
       "      <td>3</td>\n",
       "      <td>Bournemouth</td>\n",
       "      <td>2</td>\n",
       "      <td>Emirates Stadium</td>\n",
       "      <td>Chris Kavanagh</td>\n",
       "      <td>1</td>\n",
       "    </tr>\n",
       "    <tr>\n",
       "      <th>202</th>\n",
       "      <td>22</td>\n",
       "      <td>Sat</td>\n",
       "      <td>2023-02-04</td>\n",
       "      <td>2022-2023</td>\n",
       "      <td>15:00</td>\n",
       "      <td>Wolves</td>\n",
       "      <td>3</td>\n",
       "      <td>Liverpool</td>\n",
       "      <td>0</td>\n",
       "      <td>Molineux Stadium</td>\n",
       "      <td>Paul Tierney</td>\n",
       "      <td>3</td>\n",
       "    </tr>\n",
       "  </tbody>\n",
       "</table>\n",
       "</div>"
      ],
      "text/plain": [
       "     Matchweek  Day       Date     Season   Time  home_team  home_score  \\\n",
       "432          6  Sat 2023-09-23  2023-2024  17:30  Brentford           1   \n",
       "242         26  Sat 2023-03-04  2022-2023  15:00    Arsenal           3   \n",
       "202         22  Sat 2023-02-04  2022-2023  15:00     Wolves           3   \n",
       "\n",
       "       away_team  away_score                    Venue         Referee  \\\n",
       "432      Everton           3  Gtech Community Stadium  Michael Oliver   \n",
       "242  Bournemouth           2         Emirates Stadium  Chris Kavanagh   \n",
       "202    Liverpool           0         Molineux Stadium    Paul Tierney   \n",
       "\n",
       "     diff_score  \n",
       "432          -2  \n",
       "242           1  \n",
       "202           3  "
      ]
     },
     "execution_count": 14,
     "metadata": {},
     "output_type": "execute_result"
    }
   ],
   "source": [
    "EPL.sample(3)"
   ]
  },
  {
   "cell_type": "markdown",
   "metadata": {},
   "source": [
    "### Dữ liệu các dòng có bị lặp hay không?"
   ]
  },
  {
   "cell_type": "code",
   "execution_count": 15,
   "metadata": {},
   "outputs": [
    {
     "data": {
      "text/html": [
       "<div>\n",
       "<style scoped>\n",
       "    .dataframe tbody tr th:only-of-type {\n",
       "        vertical-align: middle;\n",
       "    }\n",
       "\n",
       "    .dataframe tbody tr th {\n",
       "        vertical-align: top;\n",
       "    }\n",
       "\n",
       "    .dataframe thead th {\n",
       "        text-align: right;\n",
       "    }\n",
       "</style>\n",
       "<table border=\"1\" class=\"dataframe\">\n",
       "  <thead>\n",
       "    <tr style=\"text-align: right;\">\n",
       "      <th></th>\n",
       "      <th>Matchweek</th>\n",
       "      <th>Day</th>\n",
       "      <th>Date</th>\n",
       "      <th>Season</th>\n",
       "      <th>Time</th>\n",
       "      <th>home_team</th>\n",
       "      <th>home_score</th>\n",
       "      <th>away_team</th>\n",
       "      <th>away_score</th>\n",
       "      <th>Venue</th>\n",
       "      <th>Referee</th>\n",
       "      <th>diff_score</th>\n",
       "    </tr>\n",
       "  </thead>\n",
       "  <tbody>\n",
       "  </tbody>\n",
       "</table>\n",
       "</div>"
      ],
      "text/plain": [
       "Empty DataFrame\n",
       "Columns: [Matchweek, Day, Date, Season, Time, home_team, home_score, away_team, away_score, Venue, Referee, diff_score]\n",
       "Index: []"
      ]
     },
     "execution_count": 15,
     "metadata": {},
     "output_type": "execute_result"
    }
   ],
   "source": [
    "\n",
    "EPL[EPL.duplicated(keep=False)]"
   ]
  },
  {
   "cell_type": "code",
   "execution_count": 16,
   "metadata": {},
   "outputs": [
    {
     "data": {
      "text/html": [
       "<div>\n",
       "<style scoped>\n",
       "    .dataframe tbody tr th:only-of-type {\n",
       "        vertical-align: middle;\n",
       "    }\n",
       "\n",
       "    .dataframe tbody tr th {\n",
       "        vertical-align: top;\n",
       "    }\n",
       "\n",
       "    .dataframe thead th {\n",
       "        text-align: right;\n",
       "    }\n",
       "</style>\n",
       "<table border=\"1\" class=\"dataframe\">\n",
       "  <thead>\n",
       "    <tr style=\"text-align: right;\">\n",
       "      <th></th>\n",
       "      <th>Matchweek</th>\n",
       "      <th>Day</th>\n",
       "      <th>Date</th>\n",
       "      <th>Season</th>\n",
       "      <th>Time</th>\n",
       "      <th>home_team</th>\n",
       "      <th>home_score</th>\n",
       "      <th>away_team</th>\n",
       "      <th>away_score</th>\n",
       "      <th>Venue</th>\n",
       "      <th>Referee</th>\n",
       "      <th>diff_score</th>\n",
       "    </tr>\n",
       "  </thead>\n",
       "  <tbody>\n",
       "  </tbody>\n",
       "</table>\n",
       "</div>"
      ],
      "text/plain": [
       "Empty DataFrame\n",
       "Columns: [Matchweek, Day, Date, Season, Time, home_team, home_score, away_team, away_score, Venue, Referee, diff_score]\n",
       "Index: []"
      ]
     },
     "execution_count": 16,
     "metadata": {},
     "output_type": "execute_result"
    }
   ],
   "source": [
    "\n",
    "ITA[ITA.duplicated(keep=False)]"
   ]
  },
  {
   "cell_type": "markdown",
   "metadata": {},
   "source": [
    "### Mỗi cột hiện đang có kiểu dữ liệu gì? Có cột nào có kiểu dữ liệu chưa phù hợp để có thể xử lý tiếp không?"
   ]
  },
  {
   "cell_type": "code",
   "execution_count": 17,
   "metadata": {},
   "outputs": [
    {
     "data": {
      "text/plain": [
       "Matchweek              int64\n",
       "Day                   object\n",
       "Date          datetime64[ns]\n",
       "Season                object\n",
       "Time                  object\n",
       "home_team             object\n",
       "home_score             int64\n",
       "away_team             object\n",
       "away_score             int64\n",
       "Venue                 object\n",
       "Referee               object\n",
       "diff_score             int64\n",
       "dtype: object"
      ]
     },
     "execution_count": 17,
     "metadata": {},
     "output_type": "execute_result"
    }
   ],
   "source": [
    "EPL.dtypes"
   ]
  },
  {
   "cell_type": "code",
   "execution_count": 18,
   "metadata": {},
   "outputs": [
    {
     "data": {
      "text/plain": [
       "Matchweek            float64\n",
       "Day                   object\n",
       "Date          datetime64[ns]\n",
       "Season                object\n",
       "Time                  object\n",
       "home_team             object\n",
       "home_score             int64\n",
       "away_team             object\n",
       "away_score             int64\n",
       "Venue                 object\n",
       "Referee               object\n",
       "diff_score             int64\n",
       "dtype: object"
      ]
     },
     "execution_count": 18,
     "metadata": {},
     "output_type": "execute_result"
    }
   ],
   "source": [
    "ITA.dtypes"
   ]
  },
  {
   "cell_type": "markdown",
   "metadata": {},
   "source": [
    "Cột Matchweek của ITA sẽ được chuyển về kiểu dữ liệu int\n",
    "=> Không thể chuyển về dạng int vì dữ liệu có chứa nan value"
   ]
  },
  {
   "cell_type": "code",
   "execution_count": 30,
   "metadata": {},
   "outputs": [
    {
     "data": {
      "text/html": [
       "<div>\n",
       "<style scoped>\n",
       "    .dataframe tbody tr th:only-of-type {\n",
       "        vertical-align: middle;\n",
       "    }\n",
       "\n",
       "    .dataframe tbody tr th {\n",
       "        vertical-align: top;\n",
       "    }\n",
       "\n",
       "    .dataframe thead th {\n",
       "        text-align: right;\n",
       "    }\n",
       "</style>\n",
       "<table border=\"1\" class=\"dataframe\">\n",
       "  <thead>\n",
       "    <tr style=\"text-align: right;\">\n",
       "      <th></th>\n",
       "      <th>Matchweek</th>\n",
       "      <th>home_score</th>\n",
       "      <th>away_score</th>\n",
       "      <th>diff_score</th>\n",
       "    </tr>\n",
       "  </thead>\n",
       "  <tbody>\n",
       "    <tr>\n",
       "      <th>count</th>\n",
       "      <td>663.000000</td>\n",
       "      <td>663.000000</td>\n",
       "      <td>663.000000</td>\n",
       "      <td>663.000000</td>\n",
       "    </tr>\n",
       "    <tr>\n",
       "      <th>mean</th>\n",
       "      <td>17.435897</td>\n",
       "      <td>1.687783</td>\n",
       "      <td>1.330317</td>\n",
       "      <td>0.357466</td>\n",
       "    </tr>\n",
       "    <tr>\n",
       "      <th>std</th>\n",
       "      <td>10.169190</td>\n",
       "      <td>1.379813</td>\n",
       "      <td>1.235588</td>\n",
       "      <td>1.965057</td>\n",
       "    </tr>\n",
       "    <tr>\n",
       "      <th>min</th>\n",
       "      <td>1.000000</td>\n",
       "      <td>0.000000</td>\n",
       "      <td>0.000000</td>\n",
       "      <td>-8.000000</td>\n",
       "    </tr>\n",
       "    <tr>\n",
       "      <th>25%</th>\n",
       "      <td>9.000000</td>\n",
       "      <td>1.000000</td>\n",
       "      <td>0.000000</td>\n",
       "      <td>-1.000000</td>\n",
       "    </tr>\n",
       "    <tr>\n",
       "      <th>50%</th>\n",
       "      <td>17.000000</td>\n",
       "      <td>1.000000</td>\n",
       "      <td>1.000000</td>\n",
       "      <td>0.000000</td>\n",
       "    </tr>\n",
       "    <tr>\n",
       "      <th>75%</th>\n",
       "      <td>25.000000</td>\n",
       "      <td>2.000000</td>\n",
       "      <td>2.000000</td>\n",
       "      <td>2.000000</td>\n",
       "    </tr>\n",
       "    <tr>\n",
       "      <th>max</th>\n",
       "      <td>38.000000</td>\n",
       "      <td>9.000000</td>\n",
       "      <td>8.000000</td>\n",
       "      <td>9.000000</td>\n",
       "    </tr>\n",
       "  </tbody>\n",
       "</table>\n",
       "</div>"
      ],
      "text/plain": [
       "        Matchweek  home_score  away_score  diff_score\n",
       "count  663.000000  663.000000  663.000000  663.000000\n",
       "mean    17.435897    1.687783    1.330317    0.357466\n",
       "std     10.169190    1.379813    1.235588    1.965057\n",
       "min      1.000000    0.000000    0.000000   -8.000000\n",
       "25%      9.000000    1.000000    0.000000   -1.000000\n",
       "50%     17.000000    1.000000    1.000000    0.000000\n",
       "75%     25.000000    2.000000    2.000000    2.000000\n",
       "max     38.000000    9.000000    8.000000    9.000000"
      ]
     },
     "execution_count": 30,
     "metadata": {},
     "output_type": "execute_result"
    }
   ],
   "source": [
    "EPL.describe()"
   ]
  },
  {
   "cell_type": "code",
   "execution_count": null,
   "metadata": {},
   "outputs": [],
   "source": []
  },
  {
   "cell_type": "code",
   "execution_count": null,
   "metadata": {},
   "outputs": [],
   "source": []
  }
 ],
 "metadata": {
  "kernelspec": {
   "display_name": "huy",
   "language": "python",
   "name": "python3"
  },
  "language_info": {
   "codemirror_mode": {
    "name": "ipython",
    "version": 3
   },
   "file_extension": ".py",
   "mimetype": "text/x-python",
   "name": "python",
   "nbconvert_exporter": "python",
   "pygments_lexer": "ipython3",
   "version": "3.8.16"
  }
 },
 "nbformat": 4,
 "nbformat_minor": 2
}
